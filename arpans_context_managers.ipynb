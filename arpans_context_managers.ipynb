{
 "cells": [
  {
   "cell_type": "markdown",
   "metadata": {},
   "source": [
    "References:\n",
    " \n",
    "primarily https://realpython.com/python-with-statement/, \\\n",
    "https://www.analyticsvidhya.com/blog/2023/01/a-beginners-guide-to-context-manager/"
   ]
  },
  {
   "cell_type": "markdown",
   "metadata": {},
   "source": [
    "---\n",
    "# Context Managers\n",
    "---\n",
    "\n",
    "A **context manager** allows you to allocate and release resources.\n",
    "\n",
    "A common example of this is in file handling. When you're dealing with files, you want to ensure they are properly opened and closed, preventing any leaks or locks on the file. Here's how you might do this without a context manager:"
   ]
  },
  {
   "cell_type": "code",
   "execution_count": 4,
   "metadata": {},
   "outputs": [],
   "source": [
    "file = open(\"hello.txt\", \"w\")\n",
    "file.write(\"Hello World!\")\n",
    "file.close()\n"
   ]
  },
  {
   "cell_type": "markdown",
   "metadata": {},
   "source": [
    "In the example above, you have to remember to close the file by calling file.close(). If an exception occurs when you're working with the file, your program might stop running before it has the chance to close it. This can lead to data loss or other issues.\n",
    "\n",
    "Using context managers:"
   ]
  },
  {
   "cell_type": "code",
   "execution_count": 12,
   "metadata": {},
   "outputs": [],
   "source": [
    "file = open('example.txt', 'w')\n",
    "try:\n",
    "    file.write('Hello World!')\n",
    "finally:\n",
    "    file.close()"
   ]
  },
  {
   "cell_type": "markdown",
   "metadata": {},
   "source": [
    "The finally block is a key feature of Python's error \n",
    "handling. No matter what happens in the try block (whether \n",
    "an exception is raised or not), the finally block is always \n",
    "executed. In this code, the finally block contains a single \n",
    "command: file.close(). This closes the file and releases any \n",
    "system resources used by it."
   ]
  },
  {
   "cell_type": "markdown",
   "metadata": {},
   "source": [
    "or"
   ]
  },
  {
   "cell_type": "code",
   "execution_count": 3,
   "metadata": {},
   "outputs": [],
   "source": [
    "with open('example.txt', 'w') as file:\n",
    "    file.write('Hello World!')"
   ]
  },
  {
   "cell_type": "markdown",
   "metadata": {},
   "source": [
    "In this example, the with statement is used to open the file, and then it's automatically closed when the block of code is exited, even if there are any exceptions. You don't need to explicitly call file.close(), as the with statement's context manager handles that for you. This also makes your code cleaner and more readable."
   ]
  },
  {
   "cell_type": "markdown",
   "metadata": {},
   "source": [
    "Context managers are not limited to file handling. They can be used for managing any resource that needs to be explicitly cleaned up or closed, such as network connections, database sessions, or locks in threading. They provide a clean and readable way to manage resources in Python."
   ]
  },
  {
   "cell_type": "markdown",
   "metadata": {},
   "source": [
    "## The with Statement\n",
    "\n",
    "To write a with statement, you need to use the following general syntax:\n",
    "\n",
    "```python\n",
    "\n",
    "with expression as variable:\n",
    "    # code block\n",
    "\n",
    "```"
   ]
  },
  {
   "cell_type": "markdown",
   "metadata": {},
   "source": [
    "We saw a common use of the with statement is when working with files.\n",
    "\n",
    "The with statement has been shown to have several valuable use cases. More and more objects in the Python standard library now provide support for the context management protocol so you can use them in a with statement.\n",
    "\n",
    "In this section, you’ll see some examples."
   ]
  },
  {
   "cell_type": "markdown",
   "metadata": {},
   "source": [
    "**Performing High-Precision Calculations**"
   ]
  },
  {
   "cell_type": "code",
   "execution_count": 16,
   "metadata": {},
   "outputs": [
    {
     "name": "stdout",
     "output_type": "stream",
     "text": [
      "0.0238095238095238095238095238095238095238095\n"
     ]
    }
   ],
   "source": [
    "# Performing High-Precision Calculations\n",
    "from decimal import Decimal, localcontext\n",
    "\n",
    "with localcontext() as ctx:\n",
    "     ctx.prec = 42\n",
    "     print(Decimal(\"1\") / Decimal(\"42\"))"
   ]
  },
  {
   "cell_type": "markdown",
   "metadata": {},
   "source": [
    "Unlike built-in floating-point numbers, the decimal module provides a way to adjust the precision to use in a given calculation that involves Decimal numbers. The precision defaults to 28 places, but you can change it to meet your problem requirements. A quick way to perform calculations with a custom precision is using localcontext() from decimal."
   ]
  },
  {
   "cell_type": "markdown",
   "metadata": {},
   "source": [
    "Normal output without with statement:"
   ]
  },
  {
   "cell_type": "code",
   "execution_count": 18,
   "metadata": {},
   "outputs": [
    {
     "name": "stdout",
     "output_type": "stream",
     "text": [
      "0.02380952380952380952380952381\n"
     ]
    }
   ],
   "source": [
    "print(Decimal(\"1\") / Decimal(\"42\"))"
   ]
  },
  {
   "cell_type": "markdown",
   "metadata": {},
   "source": [
    "**Traversing Directories**"
   ]
  },
  {
   "cell_type": "markdown",
   "metadata": {},
   "source": [
    "The os module provides a function called scandir(), which returns an iterator over os.DirEntry objects corresponding to the entries in a given directory. This function is specially designed to provide optimal performance when you’re traversing a directory structure.\n",
    "\n",
    "A call to scandir() with the path to a given directory as an argument returns an iterator that supports the context management protocol:"
   ]
  },
  {
   "cell_type": "code",
   "execution_count": null,
   "metadata": {},
   "outputs": [],
   "source": [
    "import os\n",
    "\n",
    "with os.scandir(\".\") as entries:\n",
    "    for entry in entries:\n",
    "        print(entry.name, \"->\", entry.stat().st_size, \"bytes\")\n"
   ]
  },
  {
   "cell_type": "markdown",
   "metadata": {},
   "source": [
    "In this example, you write a with statement with os.scandir() as the context manager supplier. Then you iterate over the entries in the selected directory (\".\") and print their name and size on the screen. In this case, .__exit__() calls scandir.close() to close the iterator and release the acquired resources. Note that if you run this on your machine, you’ll get a different output depending on the content of your current directory."
   ]
  },
  {
   "cell_type": "markdown",
   "metadata": {},
   "source": [
    "## Creating Custom Context Managers "
   ]
  },
  {
   "cell_type": "markdown",
   "metadata": {},
   "source": [
    "Creating custom context managers can be very useful for managing resources that don't have built-in context managers. There are two ways of creating them :\n",
    "\n",
    "1. **Class Based Context Managers**:\n",
    "\n",
    "To implement the context management protocol and create class-based context managers, you need to add both the `.__enter__()` and the `__exit__()` special methods to your classes. The table below summarizes how these methods work, the arguments they take, and the logic you can put in them:\n",
    "\n",
    "| Method | Description |\n",
    "| --- | --- |\n",
    "| `.__enter__(self)` | This method handles the setup logic and is called when entering a new `with` context. Its return value is bound to the `with` target variable. |\n",
    "| `.__exit__(self, exc_type, exc_value, exc_tb)` | This method handles the teardown logic and is called when the flow of execution leaves the `with` context. If an exception occurs, then `exc_type`, `exc_value`, and `exc_tb` hold the exception type, value, and traceback information, respectively. |\n",
    "\n",
    "When the `with` statement executes, it calls `.__enter__()` on the context manager object to signal that you’re entering into a new runtime context. If you provide a target variable with the `as` specifier, then the return value of `.__enter__()` is assigned to that variable.\n",
    "\n",
    "\n",
    "\n",
    "Here’s a sample class-based context manager that implements both methods, `.__enter__()` and `.__exit__()`. It also shows how Python calls them in a with construct:\n",
    "\n"
   ]
  },
  {
   "cell_type": "code",
   "execution_count": 26,
   "metadata": {},
   "outputs": [],
   "source": [
    "class HelloContextManager:\n",
    "     def __enter__(self):\n",
    "         print(\"Entering the context...\")\n",
    "         return \"Hello, World!\"\n",
    "     def __exit__(self, exc_type, exc_value, exc_tb):\n",
    "         print(\"Leaving the context...\")\n",
    "         print(f\"An exception occurred: {exc_type}, {exc_value}, {exc_tb}\")"
   ]
  },
  {
   "cell_type": "code",
   "execution_count": 27,
   "metadata": {},
   "outputs": [
    {
     "name": "stdout",
     "output_type": "stream",
     "text": [
      "Entering the context...\n",
      "Hello, World!\n",
      "Leaving the context...\n",
      "An exception occurred: None, None, None\n"
     ]
    }
   ],
   "source": [
    "with HelloContextManager() as hello:\n",
    "     print(hello)"
   ]
  },
  {
   "cell_type": "markdown",
   "metadata": {},
   "source": [
    "HelloContextManager implements both `.__enter__()` and `.__exit__`. In `.__enter__()`, you first print a message to signal that the flow of execution is entering a new context. Then you return the \"Hello, World!\" string. In `.__exit__()`, you print a message to signal that the flow of execution is leaving the context. You also print the content of its three arguments. The exc_type, exc_value, and exc_tb parameters in the `__exit__ ` method of a context manager in Python are used to handle exceptions that occur within the with statement."
   ]
  },
  {
   "cell_type": "markdown",
   "metadata": {},
   "source": [
    "**Measuring Execution Time, Class Based Context Manager**"
   ]
  },
  {
   "cell_type": "markdown",
   "metadata": {},
   "source": [
    "The following example shows how to create a context manager to measure the execution time of a given code block or function:"
   ]
  },
  {
   "cell_type": "code",
   "execution_count": 47,
   "metadata": {},
   "outputs": [],
   "source": [
    "from time import perf_counter\n",
    "\n",
    "class Timer:\n",
    "    def __enter__(self):\n",
    "        self.start = perf_counter()\n",
    "        self.end = 0.0\n",
    "        return lambda: self.end - self.start\n",
    "\n",
    "    def __exit__(self, *args):\n",
    "        self.end = perf_counter()"
   ]
  },
  {
   "cell_type": "markdown",
   "metadata": {},
   "source": [
    "When you use Timer in a with statement, `.__enter__()` gets called. This method uses time.perf_counter() to get the time at the beginning of the with code block and stores it in .start. It also initializes .end and returns a lambda function that computes a time delta. In this case, .start holds the initial state or time measurement."
   ]
  },
  {
   "cell_type": "markdown",
   "metadata": {},
   "source": [
    "Once the with block ends, `.__exit__()` gets called. The method gets the time at the end of the block and updates the value of .end so that the lambda function can compute the time required to run the with code block.\n",
    "\n",
    "Here’s how you can use this context manager in your code:"
   ]
  },
  {
   "cell_type": "code",
   "execution_count": 48,
   "metadata": {},
   "outputs": [
    {
     "data": {
      "text/plain": [
       "0.5002197999856435"
      ]
     },
     "execution_count": 48,
     "metadata": {},
     "output_type": "execute_result"
    }
   ],
   "source": [
    "from time import sleep\n",
    "\n",
    "with Timer() as elapsed:\n",
    "    # Time-consuming code goes here...\n",
    "    sleep(0.5)\n",
    "\n",
    "elapsed()"
   ]
  },
  {
   "cell_type": "markdown",
   "metadata": {},
   "source": [
    "With Timer, you can measure the execution time of any piece of code. In this example, timer holds an instance of the lambda function that computes the time delta, so you need to call timer() to get the final result."
   ]
  },
  {
   "cell_type": "markdown",
   "metadata": {},
   "source": [
    "2. **Function-Based Context Managers**:\n",
    "\n",
    "Python’s generator functions and the contextlib.contextmanager decorator provide an alternative and convenient way to implement the context management protocol. If you decorate an appropriately coded generator function with @contextmanager, then you get a function-based context manager that automatically provides both required methods, `.__enter__()` and `.__exit__()`. This can make your life more pleasant by saving you some boilerplate code.\n",
    "\n",
    "The general pattern to create a context manager using @contextmanager along with a generator function goes like this:"
   ]
  },
  {
   "cell_type": "code",
   "execution_count": 49,
   "metadata": {},
   "outputs": [
    {
     "name": "stdout",
     "output_type": "stream",
     "text": [
      "Entering the context...\n",
      "Hello, World!\n",
      "Leaving the context...\n"
     ]
    }
   ],
   "source": [
    "from contextlib import contextmanager\n",
    "\n",
    "@contextmanager\n",
    "def hello_context_manager():\n",
    "    print(\"Entering the context...\")\n",
    "    yield \"Hello, World!\"\n",
    "    print(\"Leaving the context...\")\n",
    "\n",
    "\n",
    "with hello_context_manager() as hello:\n",
    "    print(hello)"
   ]
  },
  {
   "cell_type": "markdown",
   "metadata": {},
   "source": [
    "In this example, you can identify two visible sections in hello_context_manager(). Before the yield statement, you have the setup section. There, you can place the code that acquires the managed resources. Everything before the yield runs when the flow of execution enters the context.\n",
    "\n",
    "After the yield statement, you have the teardown section, in which you can release the resources and do the cleanup. The code after yield runs at the end of the with block. The yield statement itself provides the object that will be assigned to the with target variable.\n",
    "\n",
    "This implementation and the one that uses the context management protocol are practically equivalent. Depending on which one you find more readable, you might prefer one over the other. "
   ]
  },
  {
   "cell_type": "markdown",
   "metadata": {},
   "source": [
    "The @contextmanager decorator reduces the boilerplate required to create a context manager. Instead of writing a whole class with .__enter__() and .__exit__() methods, you just need to implement a generator function with a single yield that produces whatever you want .__enter__() to return."
   ]
  },
  {
   "cell_type": "markdown",
   "metadata": {},
   "source": [
    "**Measuring Execution Time, Function-Based Context Manager**"
   ]
  },
  {
   "cell_type": "code",
   "execution_count": 52,
   "metadata": {},
   "outputs": [],
   "source": [
    "from contextlib import contextmanager\n",
    "from time import perf_counter\n",
    "\n",
    "@contextmanager\n",
    "def timer():\n",
    "    start = perf_counter()\n",
    "    yield lambda: perf_counter() - start\n"
   ]
  },
  {
   "cell_type": "code",
   "execution_count": 53,
   "metadata": {},
   "outputs": [
    {
     "data": {
      "text/plain": [
       "0.5002292999997735"
      ]
     },
     "execution_count": 53,
     "metadata": {},
     "output_type": "execute_result"
    }
   ],
   "source": [
    "from time import sleep\n",
    "\n",
    "with timer() as elapsed:\n",
    "    # Time-consuming code goes here...\n",
    "    sleep(0.5)\n",
    "\n",
    "elapsed()"
   ]
  },
  {
   "cell_type": "markdown",
   "metadata": {},
   "source": [
    "The timer function directly yields a lambda function that calculates the elapsed time when called. This lambda function captures the start variable and calls perf_counter() again each time it's invoked to get the current time and calculate the elapsed time."
   ]
  }
 ],
 "metadata": {
  "kernelspec": {
   "display_name": "Python 3",
   "language": "python",
   "name": "python3"
  },
  "language_info": {
   "codemirror_mode": {
    "name": "ipython",
    "version": 3
   },
   "file_extension": ".py",
   "mimetype": "text/x-python",
   "name": "python",
   "nbconvert_exporter": "python",
   "pygments_lexer": "ipython3",
   "version": "3.11.4"
  }
 },
 "nbformat": 4,
 "nbformat_minor": 2
}
